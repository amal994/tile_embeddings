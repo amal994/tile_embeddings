{
 "cells": [
  {
   "cell_type": "markdown",
   "id": "dc528ca9",
   "metadata": {
    "pycharm": {
     "name": "#%% md\n"
    }
   },
   "source": [
    "1. Load observation images"
   ]
  },
  {
   "cell_type": "code",
   "execution_count": 1,
   "id": "4e1d8f4c",
   "metadata": {},
   "outputs": [],
   "source": [
    "import matplotlib.pyplot as plt\n",
    "import numpy as np\n",
    "import os\n",
    "import glob\n",
    "import pickle\n",
    "\n",
    "import numpy as np\n",
    "import pandas as pd\n",
    "from PIL import Image, ImageOps\n",
    "from keras.models import model_from_json\n",
    "from keras.preprocessing.image import img_to_array\n",
    "from keras.preprocessing.image import load_img\n"
   ]
  },
  {
   "cell_type": "code",
   "execution_count": 2,
   "id": "ec6a5a30",
   "metadata": {
    "pycharm": {
     "name": "#%%\n"
    }
   },
   "outputs": [],
   "source": [
    "data_folder = \"../data/\"\n",
    "env_key = \"doorkey5\"\n",
    "example_f = \"env_0.png\""
   ]
  },
  {
   "cell_type": "code",
   "execution_count": 3,
   "id": "98833e55",
   "metadata": {
    "pycharm": {
     "name": "#%%\n"
    }
   },
   "outputs": [
    {
     "name": "stdout",
     "output_type": "stream",
     "text": [
      "Feature Dictionary Loaded\n",
      "The feature dictionary has size 12\n",
      "Features ['agent' 'ball' 'can_overlap' 'can_pickup' 'can_see_behind' 'door' 'empty'\n",
      " 'goal' 'is_locked' 'key' 'lava' 'wall']\n",
      "Loaded Entire Autoencoder Model from the Disk\n",
      "Loaded Encoder Model from the Disk\n",
      "Loaded Decoder Model from the Disk\n"
     ]
    }
   ],
   "source": [
    "# load the multilabel binarizer\n",
    "with open(\"../model/model_tokenizer.pickle\", \"rb\") as handle:\n",
    "    mlb = pickle.load(handle)\n",
    "print(\"Feature Dictionary Loaded\")\n",
    "total_features = len(mlb.classes_)\n",
    "print(\"The feature dictionary has size\", total_features)\n",
    "print(\"Features\", mlb.classes_)\n",
    "\n",
    "# load entire autoencoder architecture\n",
    "json_file = open(\"../model/autoencoder_model_test.json\", \"r\")\n",
    "loaded_model_json = json_file.read()\n",
    "json_file.close()\n",
    "ae_sep_output = model_from_json(loaded_model_json)\n",
    "ae_sep_output.load_weights(\"../model/autoencoder_model_test.h5\")\n",
    "print(\"Loaded Entire Autoencoder Model from the Disk\")\n",
    "\n",
    "# load the encoding architecture and weights\n",
    "json_file = open(\"../model/encoder_model_test.json\", \"r\")\n",
    "loaded_model_json = json_file.read()\n",
    "json_file.close()\n",
    "encoding_model = model_from_json(loaded_model_json)\n",
    "encoding_model.load_weights(\"../model/encoder_model_test.h5\")\n",
    "print(\"Loaded Encoder Model from the Disk\")\n",
    "\n",
    "# load the decoding architecture and weights\n",
    "json_file = open(\"../model/decoder_model_test.json\", \"r\")\n",
    "loaded_model_json = json_file.read()\n",
    "json_file.close()\n",
    "decoding_model = model_from_json(loaded_model_json)\n",
    "# load weights into new model\n",
    "decoding_model.load_weights(\"../model/decoder_model_test.h5\")\n",
    "print(\"Loaded Decoder Model from the Disk\")"
   ]
  },
  {
   "cell_type": "code",
   "execution_count": 4,
   "id": "e9744f62",
   "metadata": {
    "pycharm": {
     "name": "#%%\n"
    }
   },
   "outputs": [],
   "source": [
    "def get_image(example):\n",
    "    img_with_border = example\n",
    "    img_without_border = ImageOps.crop(img_with_border, border=16)\n",
    "    return img_without_border, img_with_border\n",
    "\n",
    "    return np.array(level_image_unrolled)\n",
    "def level_image_unroll(level_array_padded):\n",
    "    level_image_unrolled = []\n",
    "    image_h, image_w, image_c = level_array_padded.shape\n",
    "    for x in range(0, image_w - 32, 16):\n",
    "        for y in range(0, image_h - 32, 16):\n",
    "            context_tile = level_array_padded[y: y + 48, x: x + 48, :]\n",
    "            level_image_unrolled.append(context_tile)\n",
    "    return np.array(level_image_unrolled)\n",
    "\n",
    "def generate_unified_rep(example):\n",
    "    level_img, level_img_padded = get_image(example)\n",
    "    level_array = img_to_array(level_img)\n",
    "    level_array_padded = img_to_array(level_img_padded)\n",
    "    assert level_array.shape[0] % 16 == 0\n",
    "    assert level_array.shape[1] % 16 == 0\n",
    "    level_h = level_array.shape[0] / 16\n",
    "    level_w = level_array.shape[1] / 16\n",
    "    print(\"Height \", level_h, \"Width \", level_w)\n",
    "    level_image_expanded = level_image_unroll(level_array_padded)\n",
    "    print(\"Expanded level images \", level_image_expanded.shape)\n",
    "\n",
    "    mapped_text = np.zeros((level_image_expanded.shape[0], 12))\n",
    "    encoded_level = encoding_model.predict([level_image_expanded, mapped_text])\n",
    "    print(\"Encoding dimension\", encoded_level.shape)\n",
    "    tiles_sprites = [] \n",
    "    for i in range(len(encoded_level)):\n",
    "        tile_embedding = encoded_level[i]\n",
    "        tile_sprite = level_image_expanded[i].reshape(48, 48, 3)[16: 16 + 16, 16: 16 + 16, :]\n",
    "        tiles_sprites.append(tile_sprite)\n",
    "        #tiles_embeddings.append(tile_embedding)\n",
    "    return tiles_sprites, encoded_level"
   ]
  },
  {
   "cell_type": "code",
   "execution_count": 5,
   "id": "97fa4b68",
   "metadata": {
    "pycharm": {
     "name": "#%%\n"
    }
   },
   "outputs": [],
   "source": [
    "example = Image.open(os.path.join(data_folder,env_key,example_f))"
   ]
  },
  {
   "cell_type": "code",
   "execution_count": 6,
   "id": "88a79e7f",
   "metadata": {
    "pycharm": {
     "name": "#%%\n"
    }
   },
   "outputs": [
    {
     "data": {
      "image/png": "[encoded data removed]",
      "text/plain": [
       "<PIL.PngImagePlugin.PngImageFile image mode=RGB size=112x112>"
      ]
     },
     "execution_count": 6,
     "metadata": {},
     "output_type": "execute_result"
    }
   ],
   "source": [
    "example"
   ]
  },
  {
   "cell_type": "code",
   "execution_count": 7,
   "id": "e3158275",
   "metadata": {
    "pycharm": {
     "name": "#%%\n"
    }
   },
   "outputs": [
    {
     "name": "stdout",
     "output_type": "stream",
     "text": [
      "Height  5.0 Width  5.0\n",
      "Expanded level images  (25, 48, 48, 3)\n",
      "1/1 [==============================] - 0s 63ms/step\n",
      "Encoding dimension (25, 256)\n"
     ]
    }
   ],
   "source": [
    "tiles_sprites, tiles_embeddings = generate_unified_rep(example)"
   ]
  },
  {
   "cell_type": "code",
   "execution_count": 8,
   "id": "1e664fce",
   "metadata": {
    "pycharm": {
     "name": "#%%\n"
    }
   },
   "outputs": [
    {
     "data": {
      "text/plain": [
       "25"
      ]
     },
     "execution_count": 8,
     "metadata": {},
     "output_type": "execute_result"
    }
   ],
   "source": [
    "len(tiles_sprites)"
   ]
  },
  {
   "cell_type": "code",
   "execution_count": 9,
   "id": "c6346faf",
   "metadata": {
    "pycharm": {
     "name": "#%%\n"
    }
   },
   "outputs": [
    {
     "data": {
      "text/plain": [
       "array([-0.8398002 , -0.99898267, -0.6921043 ,  0.9999945 , -0.83748746,\n",
       "        0.6771853 , -0.94330305,  0.99995613,  0.9999931 , -0.6150156 ,\n",
       "        0.70567137, -0.9194581 ,  0.59821546, -0.9998897 ,  0.5927398 ,\n",
       "       -0.9999998 , -0.67631334,  0.63235384,  0.60245186, -0.5135426 ,\n",
       "       -0.9987397 ,  0.66144586, -0.83826774,  0.9164827 , -0.9999616 ,\n",
       "       -0.9993087 ,  0.75137824,  0.9999984 ,  0.7510773 ,  0.55750716,\n",
       "        0.9199079 ,  0.91995096,  0.8125137 ,  0.82978266,  0.9999994 ,\n",
       "        0.75922793,  0.91997194, -0.75315315,  0.99999636, -0.9165119 ,\n",
       "        0.20122106,  0.64862335, -0.67770284,  0.9995986 ,  0.34403265,\n",
       "       -0.752878  , -0.99994713,  0.19504412, -0.9999998 , -0.75847757,\n",
       "       -0.5994766 , -0.5131537 , -0.5060488 ,  0.99998665, -0.9999494 ,\n",
       "        0.99907714, -0.9199515 , -0.76118773, -0.44114587, -0.9241861 ,\n",
       "        0.43889454,  0.9999871 , -0.83900404,  0.9095617 ,  0.7591889 ,\n",
       "       -0.76006263, -0.75747794,  0.4251281 , -0.9997654 ,  0.4377128 ,\n",
       "       -0.93122816,  0.6000247 , -0.38782844, -0.59995973,  0.9200011 ,\n",
       "       -0.68059313,  0.91836417, -0.82923585,  0.9999968 , -0.7599939 ,\n",
       "        0.91935396,  0.9174085 ,  0.99999464, -0.9949952 ,  0.91993743,\n",
       "       -0.922662  , -0.47062516, -0.5381534 , -0.83924806,  0.3547986 ,\n",
       "        0.99999243,  0.9172172 , -0.9998269 , -0.6801581 , -0.9999998 ,\n",
       "       -0.69047654,  0.91981316, -0.84143674, -0.51761514, -0.99999654,\n",
       "        0.9994397 ,  0.6800325 ,  0.67960435,  0.75182486, -0.20600414,\n",
       "       -0.7599989 , -0.18279551, -0.9268439 , -0.99963456, -0.9201395 ,\n",
       "       -0.9998651 , -0.9144631 , -0.90376776,  0.2756717 ,  0.99998724,\n",
       "        0.67924446, -0.9976469 ,  0.17044388, -0.57420003,  0.9999919 ,\n",
       "       -0.43764603,  0.67790437, -0.9163536 ,  0.40757856, -0.83933645,\n",
       "        0.08671342,  0.6804123 , -0.11532886, -0.9999971 , -0.83555526,\n",
       "        0.9998927 , -0.7387625 , -0.8396912 , -0.75993276, -0.6308544 ,\n",
       "       -0.76114136,  0.6799309 ,  0.59705836, -0.99999213, -0.840574  ,\n",
       "        0.48444474, -0.99998444, -0.6768482 ,  0.7598721 ,  0.7397671 ,\n",
       "        0.68209434, -0.9997618 , -0.9122155 ,  0.5604302 ,  0.42260808,\n",
       "        0.91983527,  0.26110026,  0.91957355, -0.26055175, -0.8385535 ,\n",
       "        0.839605  ,  0.6923509 , -0.67635846,  0.6787685 , -0.9166714 ,\n",
       "       -0.9998505 , -0.9165636 , -0.99990815,  0.19036885,  0.7603543 ,\n",
       "       -0.5784977 , -0.43559295,  0.6792352 , -0.7454415 ,  0.99999964,\n",
       "       -0.99999994, -0.67934036,  0.91869074,  0.9152562 , -0.9999997 ,\n",
       "        0.99908835,  0.91206   , -0.99999887,  0.99996376, -0.68025887,\n",
       "        0.531542  , -0.999979  , -0.99718565, -0.92000437,  0.3405067 ,\n",
       "        0.91810966, -0.99974   ,  0.51641387, -0.99999994,  0.91996974,\n",
       "       -0.91957337, -0.35595044,  0.5767634 ,  0.52715194,  0.91965795,\n",
       "        0.73305964, -0.7579098 ,  0.9196086 , -0.71784234,  0.8392547 ,\n",
       "        0.99983156, -0.8677962 ,  0.9200338 ,  0.25278366, -0.99996537,\n",
       "       -0.5376267 ,  0.6534345 , -0.9198312 , -0.89886904, -0.89619535,\n",
       "        0.919214  , -0.9999998 ,  0.440049  , -0.9995635 ,  0.83332014,\n",
       "        0.9998072 ,  0.99995804, -0.96829826, -0.9198085 , -0.9999676 ,\n",
       "       -0.9999738 ,  0.8290759 ,  0.91983587, -0.8396788 ,  0.7572563 ,\n",
       "        0.8396811 ,  0.7591958 ,  0.7556227 ,  0.9198663 ,  0.27701727,\n",
       "        0.67100114, -0.75954664, -0.99967253, -0.43949607, -0.35919943,\n",
       "       -0.23936124,  0.83915323, -0.91992515, -0.45113668,  0.6087933 ,\n",
       "        0.7599751 , -0.67815346,  0.9179677 ,  0.7598297 ,  0.82262874,\n",
       "        0.526315  ,  0.04887528, -0.9199916 , -0.99995476, -0.99999976,\n",
       "        0.9977321 , -0.99997693,  0.75527894,  0.8374449 ,  0.4890146 ,\n",
       "       -0.83964676], dtype=float32)"
      ]
     },
     "execution_count": 9,
     "metadata": {},
     "output_type": "execute_result"
    }
   ],
   "source": [
    "# Representation of the observation is the average embedding of the tiles\n",
    "np.average(tiles_embeddings, axis = 0)"
   ]
  },
  {
   "cell_type": "code",
   "execution_count": 10,
   "id": "71773a44",
   "metadata": {
    "pycharm": {
     "name": "#%%\n"
    }
   },
   "outputs": [
    {
     "name": "stdout",
     "output_type": "stream",
     "text": [
      "1/1 [==============================] - 0s 67ms/step\n"
     ]
    }
   ],
   "source": [
    "decoding_img,decoding_text = decoding_model.predict(tiles_embeddings)"
   ]
  },
  {
   "cell_type": "code",
   "execution_count": 11,
   "id": "bdb37df0",
   "metadata": {
    "pycharm": {
     "name": "#%%\n"
    }
   },
   "outputs": [],
   "source": [
    "decoding_text = [np.where(text > 0.5, 1, 0) for text in decoding_text]"
   ]
  },
  {
   "cell_type": "code",
   "execution_count": 12,
   "id": "bac0b965",
   "metadata": {
    "pycharm": {
     "name": "#%%\n"
    }
   },
   "outputs": [],
   "source": [
    "decoding_text=np.array(decoding_text)"
   ]
  },
  {
   "cell_type": "code",
   "execution_count": 13,
   "id": "a00ae806",
   "metadata": {
    "pycharm": {
     "name": "#%%\n"
    }
   },
   "outputs": [
    {
     "data": {
      "text/plain": [
       "[('wall',),\n",
       " ('wall',),\n",
       " ('wall',),\n",
       " ('wall',),\n",
       " ('wall',),\n",
       " ('wall',),\n",
       " ('empty',),\n",
       " ('agent',),\n",
       " ('can_pickup', 'can_see_behind', 'key'),\n",
       " ('wall',),\n",
       " ('wall',),\n",
       " ('door', 'is_locked'),\n",
       " ('wall',),\n",
       " ('wall',),\n",
       " ('wall',),\n",
       " ('wall',),\n",
       " ('empty',),\n",
       " ('empty',),\n",
       " ('ball', 'can_overlap', 'door', 'empty'),\n",
       " ('wall',),\n",
       " ('wall',),\n",
       " ('wall',),\n",
       " ('wall',),\n",
       " ('wall',),\n",
       " ('wall',)]"
      ]
     },
     "execution_count": 13,
     "metadata": {},
     "output_type": "execute_result"
    }
   ],
   "source": [
    "mlb.inverse_transform(decoding_text)"
   ]
  },
  {
   "cell_type": "code",
   "execution_count": 16,
   "id": "788b81a4",
   "metadata": {
    "pycharm": {
     "name": "#%%\n"
    }
   },
   "outputs": [
    {
     "data": {
      "image/png": "[encoded data removed]",
      "text/plain": [
       "<PIL.Image.Image image mode=RGB size=116x112>"
      ]
     },
     "execution_count": 16,
     "metadata": {},
     "output_type": "execute_result"
    }
   ],
   "source": [
    "from keras.preprocessing.image import array_to_img, save_img, img_to_array\n",
    "    \n",
    "import sys\n",
    "from PIL import Image\n",
    "\n",
    "widths, heights = zip(*(array_to_img(i).size for i in decoding_img))\n",
    "total_width = 96\n",
    "max_height = 112\n",
    "\n",
    "new_im = Image.new('RGB', (total_width+20, max_height))\n",
    "\n",
    "x_offset = 0\n",
    "y_offset = 0\n",
    "\n",
    "for im in decoding_img:\n",
    "    im = array_to_img(im)\n",
    "    new_im.paste(im, (x_offset,y_offset))\n",
    "    y_offset += im.size[1]\n",
    "    if y_offset % 7 == 0:\n",
    "        y_offset = 0\n",
    "        x_offset += im.size[0]\n",
    "    \n",
    "\n",
    "#new_im.save('test.jpg')\n",
    "new_im    "
   ]
  },
  {
   "cell_type": "code",
   "execution_count": 17,
   "id": "0c678dca",
   "metadata": {
    "pycharm": {
     "name": "#%%\n"
    }
   },
   "outputs": [
    {
     "data": {
      "image/png": "[encoded data removed]",
      "text/plain": [
       "<PIL.Image.Image image mode=RGB size=116x112>"
      ]
     },
     "execution_count": 17,
     "metadata": {},
     "output_type": "execute_result"
    }
   ],
   "source": [
    "widths, heights = zip(*(array_to_img(i).size for i in decoding_img))\n",
    "total_width = 96\n",
    "max_height = 112\n",
    "\n",
    "new_im = Image.new('RGB', (total_width+20, max_height))\n",
    "\n",
    "x_offset = 0\n",
    "y_offset = 0\n",
    "\n",
    "for im in tiles_sprites:\n",
    "    im = array_to_img(im)\n",
    "    new_im.paste(im, (x_offset,y_offset))\n",
    "    y_offset += im.size[1]\n",
    "    if y_offset % 7 == 0:\n",
    "        y_offset = 0\n",
    "        x_offset += im.size[0]\n",
    "    \n",
    "\n",
    "new_im    "
   ]
  },
  {
   "cell_type": "code",
   "execution_count": null,
   "id": "7961e9ee",
   "metadata": {},
   "outputs": [],
   "source": []
  }
 ],
 "metadata": {
  "kernelspec": {
   "display_name": "Python 3 (ipykernel)",
   "language": "python",
   "name": "python3"
  },
  "language_info": {
   "codemirror_mode": {
    "name": "ipython",
    "version": 3
   },
   "file_extension": ".py",
   "mimetype": "text/x-python",
   "name": "python",
   "nbconvert_exporter": "python",
   "pygments_lexer": "ipython3",
   "version": "3.11.3"
  }
 },
 "nbformat": 4,
 "nbformat_minor": 5
}
