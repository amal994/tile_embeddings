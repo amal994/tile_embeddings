{
 "cells": [
  {
   "cell_type": "markdown",
   "id": "dc528ca9",
   "metadata": {
    "pycharm": {
     "name": "#%% md\n"
    }
   },
   "source": [
    "1. Load observation images"
   ]
  },
  {
   "cell_type": "code",
   "execution_count": 1,
   "id": "4e1d8f4c",
   "metadata": {},
   "outputs": [],
   "source": [
    "import matplotlib.pyplot as plt\n",
    "import numpy as np\n",
    "import os\n",
    "import glob\n",
    "import pickle\n",
    "\n",
    "import numpy as np\n",
    "import pandas as pd\n",
    "from PIL import Image, ImageOps\n",
    "from keras.models import model_from_json\n",
    "from keras.preprocessing.image import img_to_array\n",
    "from keras.preprocessing.image import load_img\n"
   ]
  },
  {
   "cell_type": "code",
   "execution_count": 2,
   "id": "ec6a5a30",
   "metadata": {
    "pycharm": {
     "name": "#%%\n"
    }
   },
   "outputs": [],
   "source": [
    "data_folder = \"../data/\"\n",
    "env_key = \"doorkey5\"\n",
    "example_f = \"env_0.png\""
   ]
  },
  {
   "cell_type": "code",
   "execution_count": 3,
   "id": "98833e55",
   "metadata": {
    "pycharm": {
     "name": "#%%\n"
    }
   },
   "outputs": [
    {
     "name": "stdout",
     "output_type": "stream",
     "text": [
      "Feature Dictionary Loaded\n",
      "The feature dictionary has size 12\n",
      "Features ['agent' 'ball' 'can_overlap' 'can_pickup' 'can_see_behind' 'door' 'empty'\n",
      " 'goal' 'is_locked' 'key' 'lava' 'wall']\n",
      "Loaded Entire Autoencoder Model from the Disk\n",
      "Loaded Encoder Model from the Disk\n",
      "Loaded Decoder Model from the Disk\n"
     ]
    }
   ],
   "source": [
    "# load the multilabel binarizer\n",
    "with open(\"../model/model_tokenizer.pickle\", \"rb\") as handle:\n",
    "    mlb = pickle.load(handle)\n",
    "print(\"Feature Dictionary Loaded\")\n",
    "total_features = len(mlb.classes_)\n",
    "print(\"The feature dictionary has size\", total_features)\n",
    "print(\"Features\", mlb.classes_)\n",
    "\n",
    "# load entire autoencoder architecture\n",
    "json_file = open(\"../model/autoencoder_model_test.json\", \"r\")\n",
    "loaded_model_json = json_file.read()\n",
    "json_file.close()\n",
    "ae_sep_output = model_from_json(loaded_model_json)\n",
    "ae_sep_output.load_weights(\"../model/autoencoder_model_test.h5\")\n",
    "print(\"Loaded Entire Autoencoder Model from the Disk\")\n",
    "\n",
    "# load the encoding architecture and weights\n",
    "json_file = open(\"../model/encoder_model_test.json\", \"r\")\n",
    "loaded_model_json = json_file.read()\n",
    "json_file.close()\n",
    "encoding_model = model_from_json(loaded_model_json)\n",
    "encoding_model.load_weights(\"../model/encoder_model_test.h5\")\n",
    "print(\"Loaded Encoder Model from the Disk\")\n",
    "\n",
    "# load the decoding architecture and weights\n",
    "json_file = open(\"../model/decoder_model_test.json\", \"r\")\n",
    "loaded_model_json = json_file.read()\n",
    "json_file.close()\n",
    "decoding_model = model_from_json(loaded_model_json)\n",
    "# load weights into new model\n",
    "decoding_model.load_weights(\"../model/decoder_model_test.h5\")\n",
    "print(\"Loaded Decoder Model from the Disk\")"
   ]
  },
  {
   "cell_type": "code",
   "execution_count": 4,
   "id": "e9744f62",
   "metadata": {
    "pycharm": {
     "name": "#%%\n"
    }
   },
   "outputs": [],
   "source": [
    "def get_image(example):\n",
    "    img_with_border = example\n",
    "    img_without_border = ImageOps.crop(img_with_border, border=16)\n",
    "    return img_without_border, img_with_border\n",
    "\n",
    "    return np.array(level_image_unrolled)\n",
    "def level_image_unroll(level_array_padded):\n",
    "    level_image_unrolled = []\n",
    "    image_h, image_w, image_c = level_array_padded.shape\n",
    "    for x in range(0, image_w - 32, 16):\n",
    "        for y in range(0, image_h - 32, 16):\n",
    "            context_tile = level_array_padded[y: y + 48, x: x + 48, :]\n",
    "            level_image_unrolled.append(context_tile)\n",
    "    return np.array(level_image_unrolled)\n",
    "\n",
    "def generate_unified_rep(example):\n",
    "    level_img, level_img_padded = get_image(example)\n",
    "    level_array = img_to_array(level_img)\n",
    "    level_array_padded = img_to_array(level_img_padded)\n",
    "    assert level_array.shape[0] % 16 == 0\n",
    "    assert level_array.shape[1] % 16 == 0\n",
    "    level_h = level_array.shape[0] / 16\n",
    "    level_w = level_array.shape[1] / 16\n",
    "    print(\"Height \", level_h, \"Width \", level_w)\n",
    "    level_image_expanded = level_image_unroll(level_array_padded)\n",
    "    print(\"Expanded level images \", level_image_expanded.shape)\n",
    "\n",
    "    mapped_text = np.zeros((level_image_expanded.shape[0], 12))\n",
    "    encoded_level = encoding_model.predict([level_image_expanded, mapped_text])\n",
    "    print(\"Encoding dimension\", encoded_level.shape)\n",
    "    tiles_sprites = [] \n",
    "    for i in range(len(encoded_level)):\n",
    "        tile_embedding = encoded_level[i]\n",
    "        tile_sprite = level_image_expanded[i].reshape(48, 48, 3)[16: 16 + 16, 16: 16 + 16, :]\n",
    "        tiles_sprites.append(tile_sprite)\n",
    "        #tiles_embeddings.append(tile_embedding)\n",
    "    return tiles_sprites, encoded_level"
   ]
  },
  {
   "cell_type": "code",
   "execution_count": 5,
   "id": "97fa4b68",
   "metadata": {
    "pycharm": {
     "name": "#%%\n"
    }
   },
   "outputs": [],
   "source": [
    "example = Image.open(os.path.join(data_folder,env_key,example_f))"
   ]
  },
  {
   "cell_type": "code",
   "execution_count": 6,
   "id": "88a79e7f",
   "metadata": {
    "pycharm": {
     "name": "#%%\n"
    }
   },
   "outputs": [
    {
     "data": {
      "image/png": "[encoded data removed]",
      "text/plain": [
       "<PIL.PngImagePlugin.PngImageFile image mode=RGB size=112x112>"
      ]
     },
     "execution_count": 6,
     "metadata": {},
     "output_type": "execute_result"
    }
   ],
   "source": [
    "example"
   ]
  },
  {
   "cell_type": "code",
   "execution_count": 7,
   "id": "e3158275",
   "metadata": {
    "pycharm": {
     "name": "#%%\n"
    }
   },
   "outputs": [
    {
     "name": "stdout",
     "output_type": "stream",
     "text": [
      "Height  5.0 Width  5.0\n",
      "Expanded level images  (25, 48, 48, 3)\n",
      "1/1 [==============================] - 0s 61ms/step\n",
      "Encoding dimension (25, 256)\n"
     ]
    }
   ],
   "source": [
    "tiles_sprites, tiles_embeddings = generate_unified_rep(example)"
   ]
  },
  {
   "cell_type": "code",
   "execution_count": 8,
   "id": "1e664fce",
   "metadata": {
    "pycharm": {
     "name": "#%%\n"
    }
   },
   "outputs": [
    {
     "data": {
      "text/plain": [
       "25"
      ]
     },
     "execution_count": 8,
     "metadata": {},
     "output_type": "execute_result"
    }
   ],
   "source": [
    "len(tiles_sprites)"
   ]
  },
  {
   "cell_type": "code",
   "execution_count": 9,
   "id": "c6346faf",
   "metadata": {
    "pycharm": {
     "name": "#%%\n"
    }
   },
   "outputs": [
    {
     "data": {
      "text/plain": [
       "array([-0.99999964, -0.99999994, -0.10133445, -0.9998272 ,  0.9999961 ,\n",
       "       -0.9999994 ,  0.5186098 , -0.8780915 ,  0.7434043 , -0.600215  ,\n",
       "        0.55714625,  0.99999994, -0.5195653 ,  0.7816096 ,  0.7718693 ,\n",
       "        0.9999993 , -0.89200157,  0.8399743 , -0.99996454, -0.9999961 ,\n",
       "        0.999973  ,  0.08154829,  0.99999994, -0.9999755 , -0.9981682 ,\n",
       "        0.59999996,  0.9252997 ,  0.3145131 , -0.8164427 , -0.74624133,\n",
       "       -0.39071587,  0.99999994,  0.999997  ,  0.91566193, -0.9999993 ,\n",
       "       -0.04124016, -0.09577081,  0.67338586, -0.9999992 ,  0.7488559 ,\n",
       "        0.9061072 ,  0.99999297,  0.9999986 ,  0.9999952 ,  0.999996  ,\n",
       "       -0.8398803 , -0.8628509 , -0.999999  ,  0.999999  , -0.920011  ,\n",
       "        0.56759584, -0.9999883 ,  0.9197966 ,  0.70638037,  0.18740591,\n",
       "        0.6068175 , -0.9196613 , -0.9999983 , -0.9999678 ,  0.51207197,\n",
       "       -0.59999996,  0.9999988 , -0.9999995 , -0.33244592, -0.9999957 ,\n",
       "       -0.67226714, -0.11312128, -0.78022516,  0.31061932, -0.9999678 ,\n",
       "        0.9999959 ,  0.45380443,  0.8529405 ,  0.76232153,  0.70579356,\n",
       "        0.9999991 , -0.04508771, -0.6050274 , -0.90142393, -0.35181063,\n",
       "        0.83999586,  0.9999993 ,  0.9999975 , -0.6799986 , -0.99999833,\n",
       "        0.2621478 , -0.9999992 ,  0.9854657 ,  0.9999981 , -0.99999994,\n",
       "       -0.41782513,  0.6787929 , -0.9196151 ,  0.7348074 , -0.657212  ,\n",
       "       -0.9999997 , -0.8278587 ,  0.99996316, -0.99999994,  0.799393  ,\n",
       "       -0.6799812 , -0.99998343,  0.9999997 , -0.9999881 ,  0.47151414,\n",
       "        0.99999994,  0.7610291 , -0.9837859 , -0.99999624,  0.91906434,\n",
       "        0.420337  , -0.99993116, -0.9999916 ,  0.99999994,  0.20116436,\n",
       "        0.56291246, -0.6783647 , -0.91872114,  0.9999896 , -0.8492762 ,\n",
       "       -0.6241164 , -0.9974104 , -0.99999946, -0.9999988 ,  0.9243448 ,\n",
       "       -0.9999257 , -0.9998264 , -0.3891777 ,  0.5999715 , -0.750337  ,\n",
       "       -0.99997115,  0.9999931 , -0.99999994,  0.91769254, -0.99999994,\n",
       "        0.9186036 ,  0.83798784, -0.12794761, -0.999995  ,  0.812739  ,\n",
       "       -0.99998647,  0.9999953 , -0.9999482 , -0.9999995 ,  0.9199878 ,\n",
       "       -0.7862003 , -0.45836383,  0.05562477, -0.9999967 ,  0.9999974 ,\n",
       "       -0.9999964 , -0.9228838 ,  0.9999686 , -0.8266266 ,  0.99992776,\n",
       "       -0.7554307 ,  0.628352  ,  0.6875435 , -0.47969478, -0.92093545,\n",
       "       -0.6799995 , -0.9999991 ,  0.75736654, -0.9199999 , -0.2484308 ,\n",
       "        0.05102466, -0.99958766, -0.28215206, -0.11502558,  0.99995255,\n",
       "        0.99999815,  0.99999994,  0.3089814 , -0.6657455 ,  0.9999635 ,\n",
       "        0.14125201,  0.68599325,  0.99999994,  0.90942115,  0.9999889 ,\n",
       "        0.9999961 ,  0.6185674 , -0.355104  , -0.81935984,  0.27994543,\n",
       "       -0.99999654,  0.9999921 ,  0.75999993, -0.9999922 , -0.999818  ,\n",
       "        0.26570845, -0.9196257 ,  0.9999992 ,  0.99995416,  0.99999976,\n",
       "       -0.14626117, -0.99989915,  0.9258562 , -0.9200821 , -0.9999794 ,\n",
       "       -0.99999994, -0.30246675,  0.83012605, -0.70998704,  0.99999666,\n",
       "        0.64945817, -0.9999919 ,  0.920012  ,  0.99990577, -0.46119967,\n",
       "        0.9999998 , -0.99999994,  0.99972594, -0.9999998 , -0.37694377,\n",
       "        0.20000389,  0.999994  ,  0.9202943 ,  0.99999964,  0.83200204,\n",
       "        0.999999  ,  0.66444623,  0.9147089 , -0.99855536,  0.88591874,\n",
       "        0.99999994, -0.9999986 ,  0.99616265,  0.9999939 ,  0.92236876,\n",
       "        0.92016864,  0.99999994,  0.6797863 ,  0.83807   , -0.95289934,\n",
       "        0.9999953 , -0.9999563 ,  0.67986214, -0.7436363 , -0.9198813 ,\n",
       "        0.9999981 , -0.9969051 ,  0.9211191 ,  0.91603655,  0.99999285,\n",
       "       -0.9999981 , -0.35827982, -0.92828596,  0.99998087, -0.06138095,\n",
       "       -0.99999946,  0.6787139 ,  0.9122336 ,  0.7605428 ,  0.29275262,\n",
       "        0.82551813], dtype=float32)"
      ]
     },
     "execution_count": 9,
     "metadata": {},
     "output_type": "execute_result"
    }
   ],
   "source": [
    "# Representation of the observation is the average embedding of the tiles\n",
    "np.average(tiles_embeddings, axis = 0)"
   ]
  },
  {
   "cell_type": "code",
   "execution_count": 11,
   "id": "71773a44",
   "metadata": {
    "pycharm": {
     "name": "#%%\n"
    }
   },
   "outputs": [
    {
     "name": "stdout",
     "output_type": "stream",
     "text": [
      "1/1 [==============================] - 0s 66ms/step\n"
     ]
    }
   ],
   "source": [
    "decoding_img,decoding_text = decoding_model.predict(tiles_embeddings)"
   ]
  },
  {
   "cell_type": "code",
   "execution_count": 12,
   "id": "bdb37df0",
   "metadata": {
    "pycharm": {
     "name": "#%%\n"
    }
   },
   "outputs": [],
   "source": [
    "decoding_text = [np.where(text > 0.5, 1, 0) for text in decoding_text]"
   ]
  },
  {
   "cell_type": "code",
   "execution_count": 13,
   "id": "bac0b965",
   "metadata": {
    "pycharm": {
     "name": "#%%\n"
    }
   },
   "outputs": [],
   "source": [
    "decoding_text=np.array(decoding_text)"
   ]
  },
  {
   "cell_type": "code",
   "execution_count": 14,
   "id": "a00ae806",
   "metadata": {
    "pycharm": {
     "name": "#%%\n"
    }
   },
   "outputs": [
    {
     "data": {
      "text/plain": [
       "[('wall',),\n",
       " ('wall',),\n",
       " ('wall',),\n",
       " ('wall',),\n",
       " ('wall',),\n",
       " ('wall',),\n",
       " ('empty',),\n",
       " ('agent',),\n",
       " ('can_pickup', 'can_see_behind', 'key'),\n",
       " ('wall',),\n",
       " ('wall',),\n",
       " ('door', 'is_locked'),\n",
       " ('wall',),\n",
       " ('wall',),\n",
       " ('wall',),\n",
       " ('wall',),\n",
       " ('empty',),\n",
       " ('empty',),\n",
       " ('door', 'is_locked'),\n",
       " ('wall',),\n",
       " ('wall',),\n",
       " ('wall',),\n",
       " ('wall',),\n",
       " ('wall',),\n",
       " ('wall',)]"
      ]
     },
     "execution_count": 14,
     "metadata": {},
     "output_type": "execute_result"
    }
   ],
   "source": [
    "mlb.inverse_transform(decoding_text)"
   ]
  },
  {
   "cell_type": "code",
   "execution_count": 15,
   "id": "788b81a4",
   "metadata": {
    "pycharm": {
     "name": "#%%\n"
    }
   },
   "outputs": [
    {
     "data": {
      "image/png": "[encoded data removed]",
      "text/plain": [
       "<PIL.Image.Image image mode=RGB size=116x112>"
      ]
     },
     "execution_count": 15,
     "metadata": {},
     "output_type": "execute_result"
    }
   ],
   "source": [
    "from keras.preprocessing.image import array_to_img, save_img, img_to_array\n",
    "#for i in decoding_img:\n",
    "#    display(array_to_img(i.reshape(16,16,3)))\n",
    "    \n",
    "import sys\n",
    "from PIL import Image\n",
    "\n",
    "widths, heights = zip(*(array_to_img(i).size for i in decoding_img))\n",
    "total_width = 96\n",
    "max_height = 112\n",
    "\n",
    "new_im = Image.new('RGB', (total_width+20, max_height))\n",
    "\n",
    "x_offset = 0\n",
    "y_offset = 0\n",
    "\n",
    "for im in decoding_img:\n",
    "    im = array_to_img(im)\n",
    "    new_im.paste(im, (x_offset,y_offset))\n",
    "    y_offset += im.size[1]\n",
    "    if y_offset % 7 == 0:\n",
    "        y_offset = 0\n",
    "        x_offset += im.size[0]\n",
    "    \n",
    "\n",
    "#new_im.save('test.jpg')\n",
    "new_im    "
   ]
  },
  {
   "cell_type": "code",
   "execution_count": 16,
   "id": "0c678dca",
   "metadata": {
    "pycharm": {
     "name": "#%%\n"
    }
   },
   "outputs": [
    {
     "data": {
      "image/png": "[encoded data removed]",
      "text/plain": [
       "<PIL.Image.Image image mode=RGB size=116x112>"
      ]
     },
     "execution_count": 16,
     "metadata": {},
     "output_type": "execute_result"
    }
   ],
   "source": [
    "from keras.preprocessing.image import array_to_img, save_img, img_to_array\n",
    "#for i in decoding_img:\n",
    "#    display(array_to_img(i.reshape(16,16,3)))\n",
    "    \n",
    "import sys\n",
    "from PIL import Image\n",
    "\n",
    "widths, heights = zip(*(array_to_img(i).size for i in decoding_img))\n",
    "total_width = 96\n",
    "max_height = 112\n",
    "\n",
    "new_im = Image.new('RGB', (total_width+20, max_height))\n",
    "\n",
    "x_offset = 0\n",
    "y_offset = 0\n",
    "\n",
    "for im in tiles_sprites:\n",
    "    im = array_to_img(im)\n",
    "    new_im.paste(im, (x_offset,y_offset))\n",
    "    y_offset += im.size[1]\n",
    "    if y_offset % 7 == 0:\n",
    "        y_offset = 0\n",
    "        x_offset += im.size[0]\n",
    "    \n",
    "\n",
    "new_im    "
   ]
  },
  {
   "cell_type": "code",
   "execution_count": null,
   "id": "7961e9ee",
   "metadata": {},
   "outputs": [],
   "source": []
  }
 ],
 "metadata": {
  "kernelspec": {
   "display_name": "Python 3 (ipykernel)",
   "language": "python",
   "name": "python3"
  },
  "language_info": {
   "codemirror_mode": {
    "name": "ipython",
    "version": 3
   },
   "file_extension": ".py",
   "mimetype": "text/x-python",
   "name": "python",
   "nbconvert_exporter": "python",
   "pygments_lexer": "ipython3",
   "version": "3.11.3"
  }
 },
 "nbformat": 4,
 "nbformat_minor": 5
}
